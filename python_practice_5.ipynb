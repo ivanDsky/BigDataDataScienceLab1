{
 "nbformat": 4,
 "nbformat_minor": 0,
 "metadata": {
  "colab": {
   "provenance": []
  },
  "kernelspec": {
   "name": "python3",
   "language": "python",
   "display_name": "Python 3 (ipykernel)"
  },
  "language_info": {
   "name": "python"
  }
 },
 "cells": [
  {
   "cell_type": "markdown",
   "source": [
    "# I. OOP"
   ],
   "metadata": {
    "id": "5qV_sehzFCTp"
   }
  },
  {
   "cell_type": "markdown",
   "source": [
    "1. (6б). Створіть клас Animal, додайте три атрибути, один з яких має значення за замовчуванням та два методи на свій розсуд."
   ],
   "metadata": {
    "id": "tx_U_hOALyfg"
   }
  },
  {
   "cell_type": "code",
   "source": [
    "class Animal:\n",
    "    def __init__(self, name, breed, number_of_limbs = 4):\n",
    "        self.name = name\n",
    "        self.breed = breed\n",
    "        self.number_of_limbs = number_of_limbs\n",
    "    \n",
    "    def introduce(self):\n",
    "        print(f\"I am {self.name}, a {self.breed} and have {self.number_of_limbs} limbs.\")\n",
    "        \n",
    "    def change_name(self, name):\n",
    "        self.name = name"
   ],
   "metadata": {
    "id": "-Vf895KaL88N",
    "ExecuteTime": {
     "end_time": "2024-03-11T23:57:36.309546500Z",
     "start_time": "2024-03-11T23:57:36.274381600Z"
    }
   },
   "execution_count": 45,
   "outputs": []
  },
  {
   "cell_type": "markdown",
   "source": [
    "2. (2б). Створіть два обʼєкти цього класу, де один з обʼєктів створюється із дефолтним значенням атрибуту. На одному обʼєкті отримайте значення його атрибуту, а на іншому викличте один з його методів."
   ],
   "metadata": {
    "id": "X_UlOMB0L93w"
   }
  },
  {
   "cell_type": "code",
   "source": [
    "dog = Animal(\"Ax\", \"Dog\")\n",
    "spider = Animal(\"Loki\", \"Spider\", 8)\n",
    "\n",
    "print(dog.number_of_limbs)\n",
    "spider.introduce()"
   ],
   "metadata": {
    "id": "7gBu0ESOMCpG",
    "ExecuteTime": {
     "end_time": "2024-03-11T23:57:36.322337600Z",
     "start_time": "2024-03-11T23:57:36.311545400Z"
    }
   },
   "execution_count": 46,
   "outputs": [
    {
     "name": "stdout",
     "output_type": "stream",
     "text": [
      "4\n",
      "I am Loki, a Spider and have 8 limbs.\n"
     ]
    }
   ]
  },
  {
   "cell_type": "markdown",
   "source": [
    "3. (5б). Створіть клас, де атрибути мають різні рівні доступу. Спробуйте отримати їхні значення та опишіть результати."
   ],
   "metadata": {
    "id": "HoqSCZt1MHn5"
   }
  },
  {
   "cell_type": "code",
   "source": [
    "class AttributeClass:\n",
    "    def __init__(self):\n",
    "        self.public_attr = \"Public attribute\"\n",
    "        self._protected_attr = \"Protected attribute\"\n",
    "        self.__private_attr = \"Private attribute\"\n",
    "\n",
    "attribute_class = AttributeClass()\n",
    "\n",
    "print(attribute_class.public_attr)\n",
    "print(attribute_class._protected_attr)\n",
    "#print(attribute_class.__private_attr)   # AttributeError: 'MyClass' object has no attribute '__private_attr'"
   ],
   "metadata": {
    "id": "r9b3vJxBMSPV",
    "ExecuteTime": {
     "end_time": "2024-03-11T23:57:36.336792100Z",
     "start_time": "2024-03-11T23:57:36.326336900Z"
    }
   },
   "execution_count": 47,
   "outputs": [
    {
     "name": "stdout",
     "output_type": "stream",
     "text": [
      "Public attribute\n",
      "Protected attribute\n"
     ]
    }
   ]
  },
  {
   "cell_type": "markdown",
   "source": [
    "4. (7б). Як ви розумієте термін self? Для чого використовується метод __init __?"
   ],
   "metadata": {
    "id": "5op2m2vgMSkZ"
   }
  },
  {
   "cell_type": "markdown",
   "source": [
    "\n",
    "`self` використовується для посилання на поточний екземпляр класу. self вказує на сам об'єкт, до якого застосовується метод, тобто той об'єкт, який викликав цей метод. Використання self дозволяє звертатися до атрибутів та методів поточного об'єкта в межах класу.\n",
    "\n",
    "Метод `__init__` є конструктором класу. Він викликається автоматично при створенні нового екземпляру класу. Метоd `__init__` призначений для ініціалізації об'єкта та його атрибутів."
   ],
   "metadata": {
    "id": "DyiPqNRvMasx"
   }
  },
  {
   "cell_type": "markdown",
   "source": [
    "5. (9б). Створіть клас Фігура без атрибутів, з методом get_area для отримання площі фігури, що повертає 0 та __add __, який приймає self та other в якості аргументів, а повертає суму площин фігур self та other."
   ],
   "metadata": {
    "id": "-6X8EGfjMd2y"
   }
  },
  {
   "cell_type": "code",
   "source": [
    "class Figure:\n",
    "    def get_area(self):\n",
    "        return 0\n",
    "\n",
    "    def __add__(self, other):\n",
    "        return self.get_area() + other.get_area()"
   ],
   "metadata": {
    "id": "4rvO_wYUMaEr",
    "ExecuteTime": {
     "end_time": "2024-03-11T23:57:36.364128Z",
     "start_time": "2024-03-11T23:57:36.330284500Z"
    }
   },
   "execution_count": 48,
   "outputs": []
  },
  {
   "cell_type": "markdown",
   "source": [
    "6. (11б). Створіть 2 дочірніх класи від Фігури: Трикутник та Коло, які мають атрибути, необхідні для розрахунку площин. Визначте метод get_area в кожному з них так, щоби вони розраховували площу в залежності від формули для кожного типу фігури. Створіть обʼєкт класу Трикутник та обʼєкт класу Коло. Виконайте операцію суми за допомогою оператора + між ними."
   ],
   "metadata": {
    "id": "SFcKnnv5Mo_z"
   }
  },
  {
   "cell_type": "code",
   "source": [
    "import math\n",
    "\n",
    "class Triangle(Figure):\n",
    "    def __init__(self, a, b, c):\n",
    "        self.a = a\n",
    "        self.b = b\n",
    "        self.c = c\n",
    "\n",
    "    def get_area(self):\n",
    "        s = (self.a + self.b + self.c) / 2\n",
    "        area = math.sqrt(s * (s - self.a) * (s - self.b) * (s - self.c))\n",
    "        return area\n",
    "\n",
    "class Circle(Figure):\n",
    "    def __init__(self, radius):\n",
    "        self.radius = radius\n",
    "\n",
    "    def get_area(self):\n",
    "        return math.pi * self.radius ** 2\n",
    "\n",
    "triangle = Triangle(3, 4, 5)\n",
    "circle = Circle(5)\n",
    "\n",
    "total_area = triangle + circle\n",
    "print(triangle.get_area(), circle.get_area(), total_area)"
   ],
   "metadata": {
    "id": "H3GVNr69Muf3",
    "ExecuteTime": {
     "end_time": "2024-03-11T23:57:36.366542200Z",
     "start_time": "2024-03-11T23:57:36.338251800Z"
    }
   },
   "execution_count": 49,
   "outputs": [
    {
     "name": "stdout",
     "output_type": "stream",
     "text": [
      "6.0 78.53981633974483 84.53981633974483\n"
     ]
    }
   ]
  },
  {
   "cell_type": "markdown",
   "source": [
    "7. (3б). Продемонструйте різницю між isinstance та issubclass."
   ],
   "metadata": {
    "id": "HCvR206YMvLK"
   }
  },
  {
   "cell_type": "code",
   "source": [
    "print(\"Is triangle instance of Figure:\", isinstance(triangle, Figure))\n",
    "print(\"Is triangle instance of Triangle:\", isinstance(triangle, Triangle))\n",
    "\n",
    "print(\"Is Triangle subclass of Figure:\", issubclass(Triangle, Figure))\n",
    "print(\"Is Figure subclass of Triangle:\",issubclass(Figure, Triangle))"
   ],
   "metadata": {
    "id": "L_V1bBvDM0GN",
    "ExecuteTime": {
     "end_time": "2024-03-11T23:57:36.366542200Z",
     "start_time": "2024-03-11T23:57:36.343426700Z"
    }
   },
   "execution_count": 50,
   "outputs": [
    {
     "name": "stdout",
     "output_type": "stream",
     "text": [
      "Is triangle instance of Figure: True\n",
      "Is triangle instance of Triangle: True\n",
      "Is Triangle subclass of Figure: True\n",
      "Is Figure subclass of Triangle: False\n"
     ]
    }
   ]
  },
  {
   "cell_type": "markdown",
   "source": [
    "8. (13б). Створіть клас BankAccount з приватними атрибутами balance та account_number. Реалізуйте методи поповнення та зняття коштів, забезпечивши належну інкапсуляцію. Підказка: використовуйте декоратори property та setter."
   ],
   "metadata": {
    "id": "jjsaBZ-iM0Qq"
   }
  },
  {
   "cell_type": "code",
   "source": [
    "# Didn't find use of setter here, as account number should be immutable and changing balance directly seems off\n",
    "\n",
    "class BankAccount:\n",
    "    def __init__(self, account_number, initial_balance=0):\n",
    "        self.__account_number = account_number\n",
    "        self.__balance = initial_balance\n",
    "\n",
    "    @property\n",
    "    def account_number(self):\n",
    "        return self.__account_number\n",
    "\n",
    "    @property\n",
    "    def balance(self):\n",
    "        return self.__balance\n",
    "\n",
    "    def deposit(self, amount):\n",
    "        if amount <= 0:\n",
    "            print(\"Error: Deposit amount must be positive.\")\n",
    "        else:\n",
    "            self.__balance += amount\n",
    "            print(f\"Success: Deposit of {amount}\")\n",
    "            \n",
    "            \n",
    "    def withdraw(self, amount):\n",
    "        if amount <= 0:\n",
    "            print(\"Error: Withdrawal amount must be positive.\")\n",
    "        elif self.__balance < amount:\n",
    "            print(\"Error: Insufficient funds\")\n",
    "        else:\n",
    "            self.__balance -= amount\n",
    "            print(f\"Success: Withdrawal of {amount}\")\n",
    "\n",
    "account = BankAccount(\"000000001\")\n",
    "\n",
    "print(\"Account Number:\", account.account_number)\n",
    "print(\"Current Balance:\", account.balance)\n",
    "\n",
    "account.deposit(500)\n",
    "print(\"Current Balance after deposit:\", account.balance)\n",
    "account.deposit(-500)\n",
    "\n",
    "account.withdraw(200)\n",
    "print(\"Current Balance after withdrawal:\", account.balance)\n",
    "account.withdraw(1000)\n",
    "account.withdraw(-1000)"
   ],
   "metadata": {
    "id": "xCvZ7lh8M7YA",
    "ExecuteTime": {
     "end_time": "2024-03-11T23:57:36.367543800Z",
     "start_time": "2024-03-11T23:57:36.350186900Z"
    }
   },
   "execution_count": 51,
   "outputs": [
    {
     "name": "stdout",
     "output_type": "stream",
     "text": [
      "Account Number: 000000001\n",
      "Current Balance: 0\n",
      "Success: Deposit of 500\n",
      "Current Balance after deposit: 500\n",
      "Error: Deposit amount must be positive.\n",
      "Success: Withdrawal of 200\n",
      "Current Balance after withdrawal: 300\n",
      "Error: Insufficient funds\n",
      "Error: Withdrawal amount must be positive.\n"
     ]
    }
   ]
  },
  {
   "cell_type": "markdown",
   "source": [
    "9. (11б). Створіть клас Library, який містить список об'єктів типу Book. Реалізуйте методи для додавання книги, видалення книги та відображення списку книг."
   ],
   "metadata": {
    "id": "tIzL2SJTM8ft"
   }
  },
  {
   "cell_type": "code",
   "source": [
    "class Book:\n",
    "    def __init__(self, title, author):\n",
    "        self.title = title\n",
    "        self.author = author\n",
    "        \n",
    "    def __str__(self):\n",
    "        return f\"'{self.title}' by {self.author}\"\n",
    "\n",
    "class Library:\n",
    "    def __init__(self):\n",
    "        self.books = []\n",
    "\n",
    "    def add_book(self, book):\n",
    "        self.books.append(book)\n",
    "        print(f\"Book {book} added to the library.\")\n",
    "\n",
    "    def remove_book(self, book):\n",
    "        if book in self.books:\n",
    "            self.books.remove(book)\n",
    "            print(f\"Book {book} removed from the library.\")\n",
    "        else:\n",
    "            print(f\"Book {book} not found in the library.\")\n",
    "\n",
    "    def display_books(self):\n",
    "        if not self.books:\n",
    "            print(\"The library is empty.\")\n",
    "        else:\n",
    "            print(\"List of books in the library:\")\n",
    "            for book in self.books:\n",
    "                print(f\"Title: {book.title}, Author: {book.author}\")\n",
    "\n",
    "library = Library()\n",
    "\n",
    "book1 = Book(\"The Berry Pickers\", \"Amanda Peters\")\n",
    "book2 = Book(\"Hello Beautiful\", \"Ann Napolitano\")\n",
    "book3 = Book(\"Hang the Moon\", \"Jeannette Walls\")\n",
    "\n",
    "library.display_books()\n",
    "\n",
    "library.add_book(book1)\n",
    "library.add_book(book2)\n",
    "library.add_book(book3)\n",
    "\n",
    "library.display_books()\n",
    "\n",
    "library.remove_book(book2)\n",
    "\n",
    "library.display_books()"
   ],
   "metadata": {
    "id": "HWxfJKLtNAUZ",
    "ExecuteTime": {
     "end_time": "2024-03-11T23:57:36.368541400Z",
     "start_time": "2024-03-11T23:57:36.356419500Z"
    }
   },
   "execution_count": 52,
   "outputs": [
    {
     "name": "stdout",
     "output_type": "stream",
     "text": [
      "The library is empty.\n",
      "Book 'The Berry Pickers' by Amanda Peters added to the library.\n",
      "Book 'Hello Beautiful' by Ann Napolitano added to the library.\n",
      "Book 'Hang the Moon' by Jeannette Walls added to the library.\n",
      "List of books in the library:\n",
      "Title: The Berry Pickers, Author: Amanda Peters\n",
      "Title: Hello Beautiful, Author: Ann Napolitano\n",
      "Title: Hang the Moon, Author: Jeannette Walls\n",
      "Book 'Hello Beautiful' by Ann Napolitano removed from the library.\n",
      "List of books in the library:\n",
      "Title: The Berry Pickers, Author: Amanda Peters\n",
      "Title: Hang the Moon, Author: Jeannette Walls\n"
     ]
    }
   ]
  },
  {
   "cell_type": "markdown",
   "source": [
    "10. (13б). Створіть клас Person з атрибутами name та age. Створіть ще один клас Employee з такими атрибутами, як department та salary. Створіть клас Manager, який успадковує обидва класи Person та Employee. Продемонструйте використання множинної спадковості, створивши обʼєкт класу Manager та отримавши mro для цього класу."
   ],
   "metadata": {
    "id": "lmV8pAwwNIqu"
   }
  },
  {
   "cell_type": "code",
   "source": [
    "class Person:\n",
    "    def __init__(self, name, age):\n",
    "        self.name = name\n",
    "        self.age = age\n",
    "\n",
    "class Employee:\n",
    "    def __init__(self, department, salary):\n",
    "        self.department = department\n",
    "        self.salary = salary\n",
    "\n",
    "class Manager(Person, Employee):\n",
    "    def __init__(self, name, age, department, salary):\n",
    "        Person.__init__(self, name, age)\n",
    "        Employee.__init__(self, department, salary)\n",
    "\n",
    "manager = Manager(\"Michael Lasso\", 24, \"iOS Developer\", 90000)\n",
    "\n",
    "print(\"Manager:\", manager.name)\n",
    "print(\"Age:\", manager.age)\n",
    "print(\"Department:\", manager.department)\n",
    "print(\"Salary:\", manager.salary)\n",
    "\n",
    "print(\"MRO:\", Manager.mro())\n"
   ],
   "metadata": {
    "id": "R49grKlWNPeN",
    "ExecuteTime": {
     "end_time": "2024-03-11T23:57:36.409539100Z",
     "start_time": "2024-03-11T23:57:36.368541400Z"
    }
   },
   "execution_count": 53,
   "outputs": [
    {
     "name": "stdout",
     "output_type": "stream",
     "text": [
      "Manager: Michael Lasso\n",
      "Age: 24\n",
      "Department: iOS Developer\n",
      "Salary: 90000\n",
      "MRO: [<class '__main__.Manager'>, <class '__main__.Person'>, <class '__main__.Employee'>, <class 'object'>]\n"
     ]
    }
   ]
  },
  {
   "cell_type": "markdown",
   "source": [
    "# II. Iterator"
   ],
   "metadata": {
    "id": "dIJyUiNBFG8G"
   }
  },
  {
   "cell_type": "markdown",
   "source": [
    "11. (4б). Визначте рядок(str) з 4ма різними за значенням символами. Створіть ітератор на основі цього рядка. Викличте 5 разів функцію next на ітераторі, 4ри перших з них огорніть у ф-цію print()."
   ],
   "metadata": {
    "id": "13vsm0NyKIzL"
   }
  },
  {
   "cell_type": "code",
   "source": [
    "str = '1234'\n",
    "iterator = iter(str)\n",
    "\n",
    "print(next(iterator))\n",
    "print(next(iterator))\n",
    "print(next(iterator))\n",
    "print(next(iterator))\n",
    "next(iterator)"
   ],
   "metadata": {
    "id": "81ntabAkKuz-",
    "ExecuteTime": {
     "end_time": "2024-03-11T23:57:36.433831800Z",
     "start_time": "2024-03-11T23:57:36.410540900Z"
    }
   },
   "execution_count": 54,
   "outputs": [
    {
     "name": "stdout",
     "output_type": "stream",
     "text": [
      "1\n",
      "2\n",
      "3\n",
      "4\n"
     ]
    },
    {
     "ename": "StopIteration",
     "evalue": "",
     "output_type": "error",
     "traceback": [
      "\u001B[1;31m---------------------------------------------------------------------------\u001B[0m",
      "\u001B[1;31mStopIteration\u001B[0m                             Traceback (most recent call last)",
      "Cell \u001B[1;32mIn[54], line 8\u001B[0m\n\u001B[0;32m      6\u001B[0m \u001B[38;5;28mprint\u001B[39m(\u001B[38;5;28mnext\u001B[39m(iterator))\n\u001B[0;32m      7\u001B[0m \u001B[38;5;28mprint\u001B[39m(\u001B[38;5;28mnext\u001B[39m(iterator))\n\u001B[1;32m----> 8\u001B[0m \u001B[38;5;28;43mnext\u001B[39;49m\u001B[43m(\u001B[49m\u001B[43miterator\u001B[49m\u001B[43m)\u001B[49m\n",
      "\u001B[1;31mStopIteration\u001B[0m: "
     ]
    }
   ]
  },
  {
   "cell_type": "markdown",
   "source": [
    "А що якщо викликати цю ж функцію на рядку?"
   ],
   "metadata": {
    "id": "aekWHGXOLRsO"
   }
  },
  {
   "cell_type": "code",
   "source": [
    "print(next(str))"
   ],
   "metadata": {
    "id": "mxATGsErLV1i",
    "ExecuteTime": {
     "end_time": "2024-03-11T23:57:36.484289900Z",
     "start_time": "2024-03-11T23:57:36.440195600Z"
    }
   },
   "execution_count": 55,
   "outputs": [
    {
     "ename": "TypeError",
     "evalue": "'str' object is not an iterator",
     "output_type": "error",
     "traceback": [
      "\u001B[1;31m---------------------------------------------------------------------------\u001B[0m",
      "\u001B[1;31mTypeError\u001B[0m                                 Traceback (most recent call last)",
      "Cell \u001B[1;32mIn[55], line 1\u001B[0m\n\u001B[1;32m----> 1\u001B[0m \u001B[38;5;28mprint\u001B[39m(\u001B[38;5;28;43mnext\u001B[39;49m\u001B[43m(\u001B[49m\u001B[38;5;28;43mstr\u001B[39;49m\u001B[43m)\u001B[49m)\n",
      "\u001B[1;31mTypeError\u001B[0m: 'str' object is not an iterator"
     ]
    }
   ]
  },
  {
   "cell_type": "markdown",
   "source": [
    " 12. (5б). Опишіть своїми словами в одному реченні, як ви розумієте різницю між ітерабельними обʼєктами та ітераторами (можна на прикладі)."
   ],
   "metadata": {
    "id": "XwtMEopwJ4pH"
   }
  },
  {
   "cell_type": "markdown",
   "source": [
    "Ітерабельні об'єкти це ті, з яких можна отримати ітератор, a ітератори це об'єкти, які утримують стан ітерації та надають метод next() для послідовного отримання елементів об'єкту.\n",
    "В минулому завданні `str` - ітерабельний об'єкт, а `iterator` - це ітератор"
   ],
   "metadata": {
    "id": "-sHrODc3KFn8"
   }
  },
  {
   "cell_type": "markdown",
   "source": [
    "13. (11б). Створіть клас, що має визначений Iterator Protocol та при кожному виклику next повертає літери англійської абетки, поки вони не вичерпаються."
   ],
   "metadata": {
    "id": "E9qJWmNbK8Gl"
   }
  },
  {
   "cell_type": "code",
   "source": [
    "class AlphabetIterator:\n",
    "    def __init__(self):\n",
    "        self.current_letter = ord('a')\n",
    "\n",
    "    def __iter__(self):\n",
    "        return self\n",
    "\n",
    "    def __next__(self):\n",
    "        if self.current_letter <= ord('z'):\n",
    "            letter = chr(self.current_letter)\n",
    "            self.current_letter += 1\n",
    "            return letter\n",
    "        else:\n",
    "            raise StopIteration\n",
    "\n",
    "alphabet_iterator = AlphabetIterator()\n",
    "\n",
    "for _ in range(26):\n",
    "    print(next(alphabet_iterator))\n",
    "\n",
    "next(alphabet_iterator)"
   ],
   "metadata": {
    "id": "cqx-g_RsLo6I",
    "ExecuteTime": {
     "start_time": "2024-03-11T23:57:36.477979800Z"
    }
   },
   "execution_count": 56,
   "outputs": [
    {
     "name": "stdout",
     "output_type": "stream",
     "text": [
      "a\n",
      "b\n",
      "c\n",
      "d\n",
      "e\n",
      "f\n",
      "g\n",
      "h\n",
      "i\n",
      "j\n",
      "k\n",
      "l\n",
      "m\n",
      "n\n",
      "o\n",
      "p\n",
      "q\n",
      "r\n",
      "s\n",
      "t\n",
      "u\n",
      "v\n",
      "w\n",
      "x\n",
      "y\n",
      "z\n"
     ]
    },
    {
     "ename": "StopIteration",
     "evalue": "",
     "output_type": "error",
     "traceback": [
      "\u001B[1;31m---------------------------------------------------------------------------\u001B[0m",
      "\u001B[1;31mStopIteration\u001B[0m                             Traceback (most recent call last)",
      "Cell \u001B[1;32mIn[56], line 21\u001B[0m\n\u001B[0;32m     18\u001B[0m \u001B[38;5;28;01mfor\u001B[39;00m _ \u001B[38;5;129;01min\u001B[39;00m \u001B[38;5;28mrange\u001B[39m(\u001B[38;5;241m26\u001B[39m):\n\u001B[0;32m     19\u001B[0m     \u001B[38;5;28mprint\u001B[39m(\u001B[38;5;28mnext\u001B[39m(alphabet_iterator))\n\u001B[1;32m---> 21\u001B[0m \u001B[38;5;28;43mnext\u001B[39;49m\u001B[43m(\u001B[49m\u001B[43malphabet_iterator\u001B[49m\u001B[43m)\u001B[49m\n",
      "Cell \u001B[1;32mIn[56], line 14\u001B[0m, in \u001B[0;36mAlphabetIterator.__next__\u001B[1;34m(self)\u001B[0m\n\u001B[0;32m     12\u001B[0m     \u001B[38;5;28;01mreturn\u001B[39;00m letter\n\u001B[0;32m     13\u001B[0m \u001B[38;5;28;01melse\u001B[39;00m:\n\u001B[1;32m---> 14\u001B[0m     \u001B[38;5;28;01mraise\u001B[39;00m \u001B[38;5;167;01mStopIteration\u001B[39;00m\n",
      "\u001B[1;31mStopIteration\u001B[0m: "
     ]
    }
   ]
  },
  {
   "cell_type": "markdown",
   "source": [
    "# Вітаю! Ви велика(ий) молодець, що впоралась(вся). Похваліть себе та побалуйте чимось приємним. Я Вами пишаюся."
   ],
   "metadata": {
    "id": "Z3E3S_s1Fv7-"
   }
  }
 ]
}
