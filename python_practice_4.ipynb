{
 "nbformat": 4,
 "nbformat_minor": 0,
 "metadata": {
  "colab": {
   "provenance": []
  },
  "kernelspec": {
   "name": "python3",
   "language": "python",
   "display_name": "Python 3 (ipykernel)"
  },
  "language_info": {
   "name": "python"
  }
 },
 "cells": [
  {
   "cell_type": "markdown",
   "source": [
    "# I. Functions. Arguments."
   ],
   "metadata": {
    "id": "kXpppdVm6wFy"
   }
  },
  {
   "cell_type": "markdown",
   "source": [
    "1. (5б) Назвіть основні 4 смислові  частини, з яких складається функція."
   ],
   "metadata": {
    "id": "u_krJdlbAkVz"
   }
  },
  {
   "cell_type": "markdown",
   "source": [
    "- Заголовок\n",
    "- Тіло\n",
    "- Параметри\n",
    "- Результат"
   ],
   "metadata": {
    "id": "KKTrTXmHAptb"
   }
  },
  {
   "cell_type": "markdown",
   "source": [
    "2. (3б) Визначте функцію, що приймає 2 аргументи та повертає результат ділення 1го аргумента на інший."
   ],
   "metadata": {
    "id": "ORM4PqJQAtDM"
   }
  },
  {
   "cell_type": "code",
   "execution_count": 92,
   "metadata": {
    "id": "EuDx-z8M6sLo",
    "ExecuteTime": {
     "end_time": "2024-02-21T23:42:28.337583Z",
     "start_time": "2024-02-21T23:42:28.320837600Z"
    }
   },
   "outputs": [
    {
     "data": {
      "text/plain": "2.5"
     },
     "execution_count": 92,
     "metadata": {},
     "output_type": "execute_result"
    }
   ],
   "source": [
    "def division(a, b): return a / b\n",
    "\n",
    "division(10, 4)"
   ]
  },
  {
   "cell_type": "markdown",
   "source": [
    "3. (2б) Викличте вище визначену функцію, де другий аргумент дорівнює 0."
   ],
   "metadata": {
    "id": "5joQGQ-SAyMe"
   }
  },
  {
   "cell_type": "code",
   "source": [
    "division(5, 0)"
   ],
   "metadata": {
    "id": "V5cBV1LOA3d-",
    "ExecuteTime": {
     "end_time": "2024-02-21T23:42:28.371273300Z",
     "start_time": "2024-02-21T23:42:28.346583600Z"
    }
   },
   "execution_count": 93,
   "outputs": [
    {
     "ename": "ZeroDivisionError",
     "evalue": "division by zero",
     "output_type": "error",
     "traceback": [
      "\u001B[1;31m---------------------------------------------------------------------------\u001B[0m",
      "\u001B[1;31mZeroDivisionError\u001B[0m                         Traceback (most recent call last)",
      "Cell \u001B[1;32mIn[93], line 1\u001B[0m\n\u001B[1;32m----> 1\u001B[0m \u001B[43mdivision\u001B[49m\u001B[43m(\u001B[49m\u001B[38;5;241;43m5\u001B[39;49m\u001B[43m,\u001B[49m\u001B[43m \u001B[49m\u001B[38;5;241;43m0\u001B[39;49m\u001B[43m)\u001B[49m\n",
      "Cell \u001B[1;32mIn[92], line 1\u001B[0m, in \u001B[0;36mdivision\u001B[1;34m(a, b)\u001B[0m\n\u001B[1;32m----> 1\u001B[0m \u001B[38;5;28;01mdef\u001B[39;00m \u001B[38;5;21mdivision\u001B[39m(a, b): \u001B[38;5;28;01mreturn\u001B[39;00m \u001B[43ma\u001B[49m\u001B[43m \u001B[49m\u001B[38;5;241;43m/\u001B[39;49m\u001B[43m \u001B[49m\u001B[43mb\u001B[49m\n",
      "\u001B[1;31mZeroDivisionError\u001B[0m: division by zero"
     ]
    }
   ]
  },
  {
   "cell_type": "markdown",
   "source": [
    "4. (4б) Перевизначте функцію так, щоби у випадку ділення на 0 функція повертала None, а в решті випадків - результат розрахунків."
   ],
   "metadata": {
    "id": "QyimWgW8A43-"
   }
  },
  {
   "cell_type": "code",
   "source": [
    "def division(a, b): return None if b == 0 else a / b\n",
    "\n",
    "division(5, 0), division(10, 4)"
   ],
   "metadata": {
    "id": "7VIODtSjA8Ek",
    "ExecuteTime": {
     "start_time": "2024-02-21T23:42:28.349260600Z"
    }
   },
   "execution_count": null,
   "outputs": []
  },
  {
   "cell_type": "markdown",
   "source": [
    "5. (5б) Визначте функцію, що віднімає одне число від іншого (підказка: це буде 2 аргументи функції). При чому, якщо не визначити, скільки саме має бути віднято від числа, за замовчуванням має відніматися 1. Викличте функцію, передаючи тільки один аргумент."
   ],
   "metadata": {
    "id": "Y8mN0GfkA81l"
   }
  },
  {
   "cell_type": "code",
   "source": [
    "def subtraction(a, b = 1): return a - b\n",
    "\n",
    "subtraction(5)"
   ],
   "metadata": {
    "id": "vg1kxkdgBA50",
    "ExecuteTime": {
     "start_time": "2024-02-21T23:42:28.350262Z"
    }
   },
   "execution_count": null,
   "outputs": []
  },
  {
   "cell_type": "markdown",
   "source": [
    "6. (7б) Визначте функцію, яка приймає iterable (ітерабельний обʼєкт, напр. список), що складається з 7ми рядкових значень - назв погодних умов (напр. \"sunny\") за кожен день у тижні. Повертає функція словник, де ключами є рядки з погодними умовами, а значеннями - кількість разів, скільки дана погода була протягом тижня (напр. {'sunny': 1, ...}). Викличте цю функцію та виведіть результат її роботи на екран."
   ],
   "metadata": {
    "id": "D3mwQGNOBBs4"
   }
  },
  {
   "cell_type": "code",
   "source": [
    "def calculate_weather(weather):\n",
    "    entries = {}\n",
    "    for day in weather: \n",
    "        if day not in entries: entries[day] = 0\n",
    "        entries[day] += 1\n",
    "    \n",
    "    return entries\n",
    "\n",
    "calculate_weather([\"Sunny\", \"Cloudy\", \"Sunny\", \"Sunny\", \"Cloudy\", \"Rainy\", \"Rainy\"])"
   ],
   "metadata": {
    "id": "OsWm-hKcBFyn",
    "ExecuteTime": {
     "start_time": "2024-02-21T23:42:28.352265600Z"
    }
   },
   "execution_count": null,
   "outputs": []
  },
  {
   "cell_type": "markdown",
   "source": [
    "7. (15б) Напишіть програму, яка б шукала необхідне число у впорядкованому списку цілочислених значень, де\n",
    "число має вводитись з консолі.\n",
    "власне алгоритм пошуку винесений в окрему функцію, яка повертає булеве значення (знайдено число - True, не знайдено - False).\n",
    "в залежності від результату функції, виведіть на екран повідомлення про успішний або ж неуспішний пошук.\n",
    "Зауваження: використовувати оператор in заборонено."
   ],
   "metadata": {
    "id": "RMiCcdOsBKQT"
   }
  },
  {
   "cell_type": "code",
   "source": [
    "my_list = [1, 10, 18, 18, 25, 100, 100]\n",
    "\n",
    "def binary_search(list, value):\n",
    "    l, r = 0, len(list) - 1\n",
    "    while l <= r:\n",
    "        mid = (l + r) // 2\n",
    "        if list[mid] == value: return True\n",
    "        elif list[mid] < value: l = mid + 1\n",
    "        else: r = mid - 1\n",
    "    \n",
    "    return False\n",
    "\n",
    "user_number = int(input(\"Enter your number: \"))\n",
    "is_found = binary_search(my_list, user_number)\n",
    "\n",
    "if is_found: print(f\"Number {user_number} is in list\")\n",
    "else: print(f\"Number {user_number} is not in list\")"
   ],
   "metadata": {
    "id": "UNCZg65OBOy-",
    "ExecuteTime": {
     "end_time": "2024-02-21T23:42:31.080052300Z",
     "start_time": "2024-02-21T23:42:28.361273800Z"
    }
   },
   "execution_count": 94,
   "outputs": [
    {
     "name": "stdout",
     "output_type": "stream",
     "text": [
      "Number 5 is not in list\n"
     ]
    }
   ]
  },
  {
   "cell_type": "markdown",
   "source": [
    "# II. Lambda functions."
   ],
   "metadata": {
    "id": "Ae1n_OvLBTsy"
   }
  },
  {
   "cell_type": "markdown",
   "source": [
    "8. (4б) В яких випадках варто використовувати лямбда-функції?"
   ],
   "metadata": {
    "id": "xaD_wSlaCWen"
   }
  },
  {
   "cell_type": "markdown",
   "source": [
    "Слід використовувати\n",
    "- Вони ідеально підходять для коротких операцій, які можна виразити в одному виразі, таких сортування або фільтрація.\n",
    "\n",
    "- Як аргументи функцій: Лямбда-функції можна передавати як аргументи до інших функцій, таких як map(), filter().\n",
    "\n",
    "Не варто використовувати\n",
    "\n",
    "- Складні операції: Якщо логіка функції стає складною, використання лямбда-функцій може призвести до складно зрозумілого коду.\n",
    "\n",
    "- Для багаторазового використання"
   ],
   "metadata": {
    "id": "42MB6OoLCakR"
   }
  },
  {
   "cell_type": "markdown",
   "source": [
    "9. (9б) Визначте список з рядками. Після цього визначте анонімну функцію для отримання першого символу у верхньому регістрі для кожного рядка списку.\n",
    "Підказка: використовуйте анонімну функцію в якості агрумента до вбудованої ф-ції, яка створена для застосування функцій над iterable обʼєктами. Результат виведіть на екран у вигляді кортежу."
   ],
   "metadata": {
    "id": "USrzrk7GCedk"
   }
  },
  {
   "cell_type": "code",
   "source": [
    "string_list = [\"Sunny\", \"Cloudy\", \"Rainy\", \"Rainy\", \"Sunny\"]\n",
    "\n",
    "result = map(lambda x: x[0].upper(), string_list)\n",
    "tuple(result)"
   ],
   "metadata": {
    "id": "M8QWUsMlCjWH",
    "ExecuteTime": {
     "end_time": "2024-02-21T23:42:31.081071Z",
     "start_time": "2024-02-21T23:42:31.028139200Z"
    }
   },
   "execution_count": 95,
   "outputs": [
    {
     "data": {
      "text/plain": "('S', 'C', 'R', 'R', 'S')"
     },
     "execution_count": 95,
     "metadata": {},
     "output_type": "execute_result"
    }
   ]
  },
  {
   "cell_type": "markdown",
   "source": [
    "10. (10б) Визначте список з числовими значеннями (і цілими, і з рухомою комою). а) Відфільтруйте всі числа, які діляться націло на 3 за допомогою вбудованої функції та анонімної функції в якості аргумента). Збережіть результат у змінній, не приводяти явно до будь-якого типу. б) Використовуючи результат на кроці 12.а у якості аргументу, та за допомогою лямбда-функції в якості іншого аргументу до вбудованої функції, додайте до кожного елементу число 1 та опісля зведіть у квадрат. Остаточний результат приведіть явно до списку та виведіть на екран."
   ],
   "metadata": {
    "id": "9fyUhXOoCtGp"
   }
  },
  {
   "cell_type": "code",
   "source": [
    "num_list = [0.0, 15.3, 2, 18.0, 17, 18, -6.0, 9]\n",
    "\n",
    "filtered_list = filter(lambda x: x % 3 == 0, num_list)\n",
    "mapped_list = map(lambda x: (x + 1)**2, filtered_list)\n",
    "list(mapped_list)"
   ],
   "metadata": {
    "id": "exEx2_okCsql",
    "ExecuteTime": {
     "end_time": "2024-02-21T23:42:31.082057900Z",
     "start_time": "2024-02-21T23:42:31.045458900Z"
    }
   },
   "execution_count": 96,
   "outputs": [
    {
     "data": {
      "text/plain": "[1.0, 361.0, 361, 25.0, 100]"
     },
     "execution_count": 96,
     "metadata": {},
     "output_type": "execute_result"
    }
   ]
  },
  {
   "cell_type": "markdown",
   "source": [
    "# III. Decorators."
   ],
   "metadata": {
    "id": "o_x8cG_WC7jp"
   }
  },
  {
   "cell_type": "markdown",
   "source": [
    "11. (11б) Визначте декоратор, який би виводив у консоль повідомлення про початок роботи і назву функції (напр. my_function._ _ name _ _), а після відпрацювання функції - повідомлення про закінчення роботи і назву функції, що задекорована."
   ],
   "metadata": {
    "id": "mhxS4-mfC8LQ"
   }
  },
  {
   "cell_type": "code",
   "source": [
    "def decorator_function(func):\n",
    "  def wrapper(*args, **kwargs):\n",
    "    print(func.__name__ + \" has started\")\n",
    "    function_result = func(*args, **kwargs)\n",
    "    print(func.__name__ + \" has stopped\")\n",
    "    return function_result\n",
    "  return wrapper\n",
    "\n",
    "def test_function(a, b = 1): print(f\"{a} + {b} = {a + b}\")\n",
    "\n",
    "wrapped_function = decorator_function(test_function)\n",
    "wrapped_function(5)"
   ],
   "metadata": {
    "id": "srd1ygWjDGhO",
    "ExecuteTime": {
     "end_time": "2024-02-21T23:42:31.118990500Z",
     "start_time": "2024-02-21T23:42:31.085052500Z"
    }
   },
   "execution_count": 97,
   "outputs": [
    {
     "name": "stdout",
     "output_type": "stream",
     "text": [
      "test_function has started\n",
      "5 + 1 = 6\n",
      "test_function has stopped\n"
     ]
    }
   ]
  },
  {
   "cell_type": "markdown",
   "source": [
    "12. (4б) Задекоруйте двома різними способами функції з завдання 4 та 5 декоратором із завдання 11. (**УВАГА**: не декоруйте функції двічі!)."
   ],
   "metadata": {
    "id": "rxGZwVBiDph3"
   }
  },
  {
   "cell_type": "code",
   "source": [
    "@decorator_function\n",
    "def division(a, b): return None if b == 0 else a / b\n",
    "\n",
    "decorated_subtraction = decorator_function(subtraction)"
   ],
   "metadata": {
    "id": "06lj7eq_DwZe",
    "ExecuteTime": {
     "end_time": "2024-02-21T23:42:31.143026100Z",
     "start_time": "2024-02-21T23:42:31.122022500Z"
    }
   },
   "execution_count": 98,
   "outputs": []
  },
  {
   "cell_type": "markdown",
   "source": [
    "13. (2б) Викличте одну з задекорованих функцій і виведіть її результат на екран."
   ],
   "metadata": {
    "id": "P0ep1urBDzf-"
   }
  },
  {
   "cell_type": "code",
   "source": [
    "print(division(5,0))\n",
    "print(decorated_subtraction(5))"
   ],
   "metadata": {
    "id": "1QvTw0ctD0S3",
    "ExecuteTime": {
     "end_time": "2024-02-21T23:42:31.164671500Z",
     "start_time": "2024-02-21T23:42:31.145372900Z"
    }
   },
   "execution_count": 99,
   "outputs": [
    {
     "name": "stdout",
     "output_type": "stream",
     "text": [
      "division has started\n",
      "division has stopped\n",
      "None\n",
      "subtraction has started\n",
      "subtraction has stopped\n",
      "4\n"
     ]
    }
   ]
  },
  {
   "cell_type": "markdown",
   "source": [
    "# IV. Recursion."
   ],
   "metadata": {
    "id": "poECCpuoD2S9"
   }
  },
  {
   "cell_type": "markdown",
   "source": [
    "14. (4б) Назвіть дві частини функції, які є обовʼязковими для того, щоб називати її рекурсивною."
   ],
   "metadata": {
    "id": "DqkURfdsD7MY"
   }
  },
  {
   "cell_type": "markdown",
   "source": [
    "Рекурсивна функція повинна\n",
    "- Викликати саму себе\n",
    "- Мати точку зупинки"
   ],
   "metadata": {
    "id": "HYW6ttIeIQIU"
   }
  },
  {
   "cell_type": "markdown",
   "source": [
    "15. (15б) Визначте функцію, яка рекурсивно реалізовує пошук числа у послідовності Фібоначчі за її індексом (нумерація починається з нуля). Наприклад, потрібно знайти перше число у послідовності, тоді функція прийматиме 0 у якості аргумента і повертатиме 1, якщо ж знаходити третє число (індекс 2) послідовності, то функція повертатиме 2, якщо ж знаходити десяте число (індекс 9), то функція повертатиме 55."
   ],
   "metadata": {
    "id": "WYVt20UmEA35"
   }
  },
  {
   "cell_type": "code",
   "source": [
    "def fibonacci(n): return 1 if n <= 1 else fibonacci(n - 1) + fibonacci(n - 2)\n",
    "\n",
    "fibonacci(9)"
   ],
   "metadata": {
    "id": "xIMhp05AIpV_",
    "ExecuteTime": {
     "end_time": "2024-02-21T23:42:31.165671700Z",
     "start_time": "2024-02-21T23:42:31.147384500Z"
    }
   },
   "execution_count": 100,
   "outputs": [
    {
     "data": {
      "text/plain": "55"
     },
     "execution_count": 100,
     "metadata": {},
     "output_type": "execute_result"
    }
   ]
  },
  {
   "cell_type": "markdown",
   "source": [
    "# Вітаю! Ви велика(ий) молодець, що впоралась(вся). Похваліть себе та побалуйте чимось приємним. Я Вами пишаюся."
   ],
   "metadata": {
    "id": "ytXC8n_4Ip0W"
   }
  }
 ]
}
