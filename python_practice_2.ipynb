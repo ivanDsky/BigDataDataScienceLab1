{
 "nbformat": 4,
 "nbformat_minor": 0,
 "metadata": {
  "colab": {
   "provenance": []
  },
  "kernelspec": {
   "name": "python3",
   "language": "python",
   "display_name": "Python 3 (ipykernel)"
  },
  "language_info": {
   "name": "python"
  }
 },
 "cells": [
  {
   "cell_type": "markdown",
   "source": [
    "# I. Змінні та памʼять."
   ],
   "metadata": {
    "id": "p9wwt0LZzNvn"
   }
  },
  {
   "cell_type": "markdown",
   "source": [
    "1. Створити змінні, що посилаються на два цілих числа, що однакові за значенням, де значення належить проміжку від -5 до 256. Перевірте, чи будуть ці змінні рівні тільки за значенням або ж ще будуть посилатися на один і той самий обʼєкт в памʼяті? Наведіть код та дайте текстову відповідь нижче."
   ],
   "metadata": {
    "id": "HTJrrm95xSV9"
   }
  },
  {
   "cell_type": "code",
   "execution_count": 32,
   "metadata": {
    "id": "TATni2vzayjG",
    "ExecuteTime": {
     "end_time": "2024-02-12T19:17:31.099025100Z",
     "start_time": "2024-02-12T19:17:31.095198Z"
    }
   },
   "outputs": [
    {
     "name": "stdout",
     "output_type": "stream",
     "text": [
      "A equals B - True\n",
      "A is B - True\n",
      "A and B link to same object id(A) = 140729511765064, id(B) = 140729511765064\n"
     ]
    }
   ],
   "source": [
    "a = 10\n",
    "b = 10\n",
    "\n",
    "print(\"A equals B -\",a == b)\n",
    "print(\"A is B -\",a is b)\n",
    "print(\"A and B link to same object id(A) = %d, id(B) = %d\" % (id(a), id(b)))"
   ]
  },
  {
   "cell_type": "markdown",
   "source": [
    "Так само як і в Java, Python має невеликий заготовлений масив цілих чисел в діапазоні [-5, 256] який створюється на запуску програми і числа з цього діапазону будуть перевикористовуватись, а не створювати нові об'єкти"
   ],
   "metadata": {
    "id": "zfRG_o3WbRdg"
   }
  },
  {
   "cell_type": "markdown",
   "source": [
    "2. За допомогою якої функції можна перевірити належність змінної до вказаного типу даних (напр. чи змінна True посилається на значення булевого та цілочисленого типу)?"
   ],
   "metadata": {
    "id": "ISORzt6M3vAt"
   }
  },
  {
   "cell_type": "code",
   "source": [
    "var = True\n",
    "isinstance(var, bool), isinstance(var, int) "
   ],
   "metadata": {
    "id": "9vL9CFaMbfyo",
    "ExecuteTime": {
     "end_time": "2024-02-12T19:05:54.009569200Z",
     "start_time": "2024-02-12T19:05:54.001543200Z"
    }
   },
   "execution_count": 15,
   "outputs": [
    {
     "data": {
      "text/plain": "(True, True)"
     },
     "execution_count": 15,
     "metadata": {},
     "output_type": "execute_result"
    }
   ]
  },
  {
   "cell_type": "markdown",
   "source": [
    "# II. Цілі числа та числа з рухомою комою"
   ],
   "metadata": {
    "id": "tRxugKAxwYLw"
   }
  },
  {
   "cell_type": "markdown",
   "source": [
    "3. Створити дві змінні, що посилаються на будь-які ціле число та число з рухомою комою та продемонструвати такі арифметичні операції: додавання, віднімання, ділення, множення, ділення без залишку, ділення по модулю, приведення до ступеню. Всі результати операцій вивести на екран."
   ],
   "metadata": {
    "id": "NLHkgd5Gybc8"
   }
  },
  {
   "cell_type": "code",
   "outputs": [
    {
     "name": "stdout",
     "output_type": "stream",
     "text": [
      "is my_int int - True\n",
      "is my_float float - True\n",
      "my_int + my_float = 17.5\n",
      "my_float + my_int = 17.5\n",
      "my_int - my_float = 2.5\n",
      "my_float - my_int = -2.5\n",
      "my_int * my_float = 75.0\n",
      "my_float * my_int = 75.0\n",
      "my_int / my_float = 1.3333333333333333\n",
      "my_float / my_int = 0.75\n",
      "my_int // my_float = 1.0\n",
      "my_float // my_int = 0.0\n",
      "my_int % my_float = 2.5\n",
      "my_float % my_int = 7.5\n",
      "my_int ^ my_float = 31622776.60168379\n",
      "my_float ^ my_int = 563135147.0947266\n"
     ]
    }
   ],
   "source": [
    "my_int = 10\n",
    "my_float = 7.5\n",
    "\n",
    "print(\"is my_int int -\", isinstance(my_int, int))\n",
    "print(\"is my_float float -\", isinstance(my_float, float))\n",
    "\n",
    "print(\"my_int + my_float =\", my_int + my_float)\n",
    "print(\"my_float + my_int =\", my_float + my_int)\n",
    "print(\"my_int - my_float =\", my_int - my_float)\n",
    "print(\"my_float - my_int =\", my_float - my_int)\n",
    "print(\"my_int * my_float =\", my_int * my_float)\n",
    "print(\"my_float * my_int =\", my_float * my_int)\n",
    "print(\"my_int / my_float =\", my_int / my_float)\n",
    "print(\"my_float / my_int =\", my_float / my_int)\n",
    "print(\"my_int // my_float =\", my_int // my_float)\n",
    "print(\"my_float // my_int =\", my_float // my_int)\n",
    "print(\"my_int % my_float =\", my_int % my_float)\n",
    "print(\"my_float % my_int =\", my_float % my_int)\n",
    "print(\"my_int ^ my_float =\", my_int ** my_float)\n",
    "print(\"my_float ^ my_int =\", my_float ** my_int)"
   ],
   "metadata": {
    "collapsed": false,
    "ExecuteTime": {
     "end_time": "2024-02-12T19:18:50.152470200Z",
     "start_time": "2024-02-12T19:18:50.146957700Z"
    }
   },
   "execution_count": 34
  },
  {
   "cell_type": "markdown",
   "source": [
    "4. Використовуючи змінні з вправи 3, продемонструйте механізм явного перетворення типів, де числа з рухомою комою перетворюються на цілі числа. Також визначте змінну, що посилається на значення булевого типу і спробуйте явно привести її до цілого числа."
   ],
   "metadata": {
    "id": "1kBClKgPzZnC"
   }
  },
  {
   "cell_type": "code",
   "source": [
    "my_float_cast_int = int(my_float)\n",
    "\n",
    "my_bool = True\n",
    "my_bool_cast_int = int(my_bool)\n",
    "\n",
    "my_float_cast_int, my_bool_cast_int"
   ],
   "metadata": {
    "id": "TbqJbkeUcKsD",
    "ExecuteTime": {
     "end_time": "2024-02-12T19:20:21.208780300Z",
     "start_time": "2024-02-12T19:20:21.204440500Z"
    }
   },
   "execution_count": 35,
   "outputs": [
    {
     "data": {
      "text/plain": "(7, 1)"
     },
     "execution_count": 35,
     "metadata": {},
     "output_type": "execute_result"
    }
   ]
  },
  {
   "cell_type": "markdown",
   "source": [
    "# IІІ. Рядки (String)."
   ],
   "metadata": {
    "collapsed": false
   }
  },
  {
   "cell_type": "markdown",
   "source": [
    "5. Створити пустий рядок двома різними способами."
   ],
   "metadata": {
    "collapsed": false
   }
  },
  {
   "cell_type": "code",
   "source": [
    "empty_str_1 = \"\"\n",
    "empty_str_2 = str()\n",
    "\n",
    "empty_str_1, empty_str_2"
   ],
   "metadata": {
    "id": "fkZJHu9Scvc-",
    "ExecuteTime": {
     "end_time": "2024-02-12T19:21:12.152249900Z",
     "start_time": "2024-02-12T19:21:12.147002300Z"
    }
   },
   "execution_count": 36,
   "outputs": [
    {
     "data": {
      "text/plain": "('', '')"
     },
     "execution_count": 36,
     "metadata": {},
     "output_type": "execute_result"
    }
   ]
  },
  {
   "cell_type": "markdown",
   "source": [
    "6. Створити рядок з апострофом. Зробити його сирим. Вивести обидва рядка на екран."
   ],
   "metadata": {
    "id": "4Bdn9J3MzLf_"
   }
  },
  {
   "cell_type": "code",
   "source": [
    "str_with_quote = 'some string with \\''\n",
    "raw_str_with_quote = r'raw string with \\''\n",
    "\n",
    "print(str_with_quote)\n",
    "print(raw_str_with_quote)"
   ],
   "metadata": {
    "id": "ivji_hsmc0GH",
    "ExecuteTime": {
     "end_time": "2024-02-12T19:24:33.936637600Z",
     "start_time": "2024-02-12T19:24:33.931614100Z"
    }
   },
   "execution_count": 42,
   "outputs": [
    {
     "name": "stdout",
     "output_type": "stream",
     "text": [
      "some string with '\n",
      "raw string with \\'\n"
     ]
    }
   ]
  },
  {
   "cell_type": "markdown",
   "source": [
    "7. Створити змінну, що буде посилатися на Ваше прізвище латинкою. Створити форматований рядок, який буде мати вигляд \"My surname is ______\", де на місці нижніх підкреслень буде Ваше прізвище зі змінної."
   ],
   "metadata": {
    "id": "bg_d8wM4z8dS"
   }
  },
  {
   "cell_type": "code",
   "source": [
    "my_surname = 'Dobrovolskyi'\n",
    "\n",
    "formatted_surname = f'My surname is {my_surname}'\n",
    "\n",
    "formatted_surname"
   ],
   "metadata": {
    "id": "kuxFgpWndACq",
    "ExecuteTime": {
     "end_time": "2024-02-12T19:26:01.269198700Z",
     "start_time": "2024-02-12T19:26:01.264070Z"
    }
   },
   "execution_count": 59,
   "outputs": [
    {
     "data": {
      "text/plain": "'My surname is Dobrovolskyi'"
     },
     "execution_count": 59,
     "metadata": {},
     "output_type": "execute_result"
    }
   ]
  },
  {
   "cell_type": "markdown",
   "source": [
    "8. Маючи рядок \"My dog is crazy.\" перетворити його на список [\"my\", \"dog\", \"is\", \"crazy\"]"
   ],
   "metadata": {
    "id": "1Nc6RqvQ0hxU"
   }
  },
  {
   "cell_type": "code",
   "source": [
    "my_dog_is_crazy = 'My dog is crazy.'\n",
    "my_dog_is_crazy_lower = my_dog_is_crazy.lower()\n",
    "my_dog_is_crazy_no_dot = my_dog_is_crazy_lower[:-1]\n",
    "split_str = my_dog_is_crazy_no_dot.split()\n",
    "\n",
    "split_str"
   ],
   "metadata": {
    "id": "w1Ya4RqedUhw",
    "ExecuteTime": {
     "end_time": "2024-02-12T19:30:07.338210100Z",
     "start_time": "2024-02-12T19:30:07.328232500Z"
    }
   },
   "execution_count": 69,
   "outputs": [
    {
     "data": {
      "text/plain": "['my', 'dog', 'is', 'crazy']"
     },
     "execution_count": 69,
     "metadata": {},
     "output_type": "execute_result"
    }
   ]
  },
  {
   "cell_type": "markdown",
   "source": [
    "# IV. Робота зі списками."
   ],
   "metadata": {
    "id": "GYVqN9uP1D4n"
   }
  },
  {
   "cell_type": "markdown",
   "source": [
    "9. Створити список двома різними за синтаксисом способами. За допомогою вбудованої функції обчисліть довжину одного з них."
   ],
   "metadata": {
    "id": "7-DeDunw2sO-"
   }
  },
  {
   "cell_type": "code",
   "source": [
    "my_list_1 = [1,0,4,5]\n",
    "my_list_2 = list()\n",
    "\n",
    "len(my_list_1), len(my_list_2)"
   ],
   "metadata": {
    "id": "zxg06Uuxdyoh",
    "ExecuteTime": {
     "end_time": "2024-02-12T19:31:18.054422600Z",
     "start_time": "2024-02-12T19:31:18.050913700Z"
    }
   },
   "execution_count": 70,
   "outputs": [
    {
     "data": {
      "text/plain": "(4, 0)"
     },
     "execution_count": 70,
     "metadata": {},
     "output_type": "execute_result"
    }
   ]
  },
  {
   "cell_type": "markdown",
   "source": [
    "10. Створіть два списка та за допомогою спеціального методу додайте другий з них в якості останнього елемента першого."
   ],
   "metadata": {
    "id": "8vmGUTjL22gI"
   }
  },
  {
   "cell_type": "code",
   "source": [
    "my_list_3 = ['a', 'b', 'c']\n",
    "my_list_4 = ['d', 'f']\n",
    "\n",
    "my_list_3.append(my_list_4)\n",
    "\n",
    "my_list_3"
   ],
   "metadata": {
    "id": "uHtjWYw7d7hm",
    "ExecuteTime": {
     "end_time": "2024-02-12T19:32:40.884974700Z",
     "start_time": "2024-02-12T19:32:40.880762400Z"
    }
   },
   "execution_count": 71,
   "outputs": [
    {
     "data": {
      "text/plain": "['a', 'b', 'c', ['d', 'f']]"
     },
     "execution_count": 71,
     "metadata": {},
     "output_type": "execute_result"
    }
   ]
  },
  {
   "cell_type": "markdown",
   "source": [
    "11. Створіть список, де елементами цього списку також є списки. Отримай перший елемент з останнього рядка та виведи значення на екран."
   ],
   "metadata": {
    "id": "JC3BkD-67_--"
   }
  },
  {
   "cell_type": "code",
   "source": [
    "my_matrix = [\n",
    "    [2, 2, 2],\n",
    "    [0, 1, 0],\n",
    "    [0, 1, 0]\n",
    "]\n",
    "\n",
    "my_matrix[-1][0]"
   ],
   "metadata": {
    "id": "Kz2jZHsGeLlz",
    "ExecuteTime": {
     "end_time": "2024-02-12T19:35:24.994580500Z",
     "start_time": "2024-02-12T19:35:24.990275400Z"
    }
   },
   "execution_count": 73,
   "outputs": [
    {
     "data": {
      "text/plain": "0.0"
     },
     "execution_count": 73,
     "metadata": {},
     "output_type": "execute_result"
    }
   ]
  },
  {
   "cell_type": "markdown",
   "source": [
    "12. Створіть список з десяти елементів різного типу. Отримайте всі елементи, окрім двох перших та двох останніх та збережіть їх в новій змінній."
   ],
   "metadata": {
    "id": "JA47PKTv8zFK"
   }
  },
  {
   "cell_type": "code",
   "source": [
    "my_very_random_list = [False, 0.5, 0, 'a', \"aaaa\", (\"aaa\", 4), [1, 9], {1, 1, 9}, {'a' : 5}, 4+7j]\n",
    "\n",
    "shorter_random_list = my_very_random_list[2:-2]\n",
    "\n",
    "shorter_random_list"
   ],
   "metadata": {
    "id": "_rHdUR-ueP4-",
    "ExecuteTime": {
     "end_time": "2024-02-12T19:42:20.859653600Z",
     "start_time": "2024-02-12T19:42:20.856021700Z"
    }
   },
   "execution_count": 79,
   "outputs": [
    {
     "data": {
      "text/plain": "[0, 'a', 'aaaa', ('aaa', 4), [1, 9], {1, 9}]"
     },
     "execution_count": 79,
     "metadata": {},
     "output_type": "execute_result"
    }
   ]
  },
  {
   "cell_type": "markdown",
   "source": [
    "# V. Робота з кортежами."
   ],
   "metadata": {
    "id": "pCjR1dJb1Qbi"
   }
  },
  {
   "cell_type": "markdown",
   "source": [
    "14. Створити кортеж з один елементом."
   ],
   "metadata": {
    "id": "fAZCxAX06R_k"
   }
  },
  {
   "cell_type": "code",
   "source": [
    "my_tuple = (1,)\n",
    "\n",
    "my_tuple"
   ],
   "metadata": {
    "id": "H7d82WkQev3e",
    "ExecuteTime": {
     "end_time": "2024-02-12T19:49:12.633497800Z",
     "start_time": "2024-02-12T19:49:12.627633400Z"
    }
   },
   "execution_count": 96,
   "outputs": [
    {
     "data": {
      "text/plain": "(1,)"
     },
     "execution_count": 96,
     "metadata": {},
     "output_type": "execute_result"
    }
   ]
  },
  {
   "cell_type": "markdown",
   "source": [
    "15. Порівняйте список та кортеж. Назвіть схожості та відмінності, випадки використання."
   ],
   "metadata": {
    "id": "8LCtYcmI6w1M"
   }
  },
  {
   "cell_type": "markdown",
   "source": [
    "Схожості:\n",
    "\n",
    "- Обидва можуть містити декілька елементів даних різних типів\n",
    "- Як списки, так і кортежі можуть бути вкладеними, тобто містити інші списки або кортежі як елементи.\n",
    "\n",
    "Відмінності:\n",
    "\n",
    "- Мутабельність: Списки є змінюваними, їх можна змінювати після створення, додавати нові елементи, видаляти існуючі, змінювати значення елементів. Кортежі, натомість, є незмінюваними, тобто після створення ви не можете змінити їхні значення.\n",
    "- Список створюється за допомогою квадратних дужок [ ], а кортеж за допомогою круглих дужок ( ).\n",
    "- Швидкодія: Зазвичай операції з кортежами виконуються швидше, ніж зі списками, тому що кортежі є незмінними, а це дозволяє оптимізувати деякі операції.\n",
    "\n",
    "Використовуйте список, коли вам потрібна колекція, яку ви можете змінювати, коли потрібно, та використовуйте кортеж, коли вам потрібна незмінна колекція даних або ви хочете забезпечити, що дані не будуть змінені."
   ],
   "metadata": {
    "collapsed": false
   }
  },
  {
   "cell_type": "markdown",
   "source": [
    "16. Створіть кортеж з 11ти елементів чисел з рухомою комою та отримайте кожен парний за індексом елемент в зворотньому порядку. Наприклад, маючи (1.2, 2.3, 3.3, 4.3, 5.3, 6.3, 7.3, 8.3, 9.3, 0.3), отримати (0.3, 8.3, 6.3, 4.3, 2.3). Результат збережіть в нову змінну та виведіть на екран."
   ],
   "metadata": {
    "id": "m0xrwFijAmDD"
   }
  },
  {
   "cell_type": "code",
   "source": [
    "eleven_tuple = (11.11, 10.10, 9.9, 8.8, 7.7, 6.6, 5.5, 4.4, 3.3, 2.2, 1.1)\n",
    "reversed_five_tuple = eleven_tuple[-1::-2]\n",
    "\n",
    "reversed_five_tuple"
   ],
   "metadata": {
    "id": "p-5DAH6XfAGA",
    "ExecuteTime": {
     "end_time": "2024-02-12T19:48:11.924519600Z",
     "start_time": "2024-02-12T19:48:11.919585600Z"
    }
   },
   "execution_count": 92,
   "outputs": [
    {
     "data": {
      "text/plain": "(1.1, 3.3, 5.5, 7.7, 9.9, 11.11)"
     },
     "execution_count": 92,
     "metadata": {},
     "output_type": "execute_result"
    }
   ]
  },
  {
   "cell_type": "markdown",
   "source": [
    "# VI. Множини (Set)."
   ],
   "metadata": {
    "id": "rW_I9dt3x6cW"
   }
  },
  {
   "cell_type": "markdown",
   "source": [
    "17. Створити множину без елементів. Після цого за допомогою методу додайте кілька різних елементів до множини. Чи множини є змінним типом даних?"
   ],
   "metadata": {
    "id": "zNjRLHLw1Bgg"
   }
  },
  {
   "cell_type": "code",
   "source": [
    "my_set = set()\n",
    "\n",
    "my_set.add('a')\n",
    "my_set.add(1)\n",
    "my_set.add(\"a\")\n",
    "my_set.add(1.5)\n",
    "\n",
    "my_set"
   ],
   "metadata": {
    "id": "KOv7zc2Kfo4N",
    "ExecuteTime": {
     "end_time": "2024-02-12T19:51:28.254051400Z",
     "start_time": "2024-02-12T19:51:28.250213200Z"
    }
   },
   "execution_count": 98,
   "outputs": [
    {
     "data": {
      "text/plain": "{1, 1.5, 'a'}"
     },
     "execution_count": 98,
     "metadata": {},
     "output_type": "execute_result"
    }
   ]
  },
  {
   "cell_type": "markdown",
   "source": [
    "Так, множини це змінний тип даних, оскільки ми можемо додавати/видаляти елементи"
   ],
   "metadata": {
    "id": "vxS6dVYiftZQ"
   }
  },
  {
   "cell_type": "markdown",
   "source": [
    "18. Створити множину, маючи список my_list = [1, 1, 2, 67, 67, 8, 9]. Пояснити, чому \"зникли\" деякі елементи."
   ],
   "metadata": {
    "id": "gHpT0Zw_1HEF"
   }
  },
  {
   "cell_type": "code",
   "source": [
    "my_list = [1, 1, 2, 67, 67, 8, 9]\n",
    "set_from_my_list = set(my_list)\n",
    "\n",
    "my_list, set_from_my_list"
   ],
   "metadata": {
    "id": "qCN4uvJ_fxmu",
    "ExecuteTime": {
     "end_time": "2024-02-12T19:55:22.217951700Z",
     "start_time": "2024-02-12T19:55:22.211019100Z"
    }
   },
   "execution_count": 100,
   "outputs": [
    {
     "data": {
      "text/plain": "([1, 1, 2, 67, 67, 8, 9, 315, 315], {1, 2, 8, 9, 67, 315})"
     },
     "execution_count": 100,
     "metadata": {},
     "output_type": "execute_result"
    }
   ]
  },
  {
   "cell_type": "markdown",
   "source": [
    "Оскільки основна задача множин зберігати унікальні елементи, то розмір set_from_my_list менше за my_list, так як копії елементів видалились."
   ],
   "metadata": {
    "id": "tFNc1e20fyny"
   }
  },
  {
   "cell_type": "markdown",
   "source": [
    "19. Створіть дві множини. Продемонстуйте над ними операції: обʼєднання, різниці, пересічі та симетричної різниці. Використовуйте методи, що не змінюють множини, а створюють нові."
   ],
   "metadata": {
    "id": "SRMkGizS1UwY"
   }
  },
  {
   "cell_type": "code",
   "source": [
    "first_set = {1, 2, 3, 5, 9}\n",
    "second_set = {2, 3, 4, 5, 6, 10}\n",
    "\n",
    "union = first_set.union(second_set)\n",
    "intersection = first_set.intersection(second_set)\n",
    "difference = first_set.difference(second_set)\n",
    "symmetric_difference = first_set.symmetric_difference(second_set)\n",
    "\n",
    "print(f\"Union - {union}\\nIntersection - {intersection}\\nDifference - {difference}\\nSymmetric difference - {symmetric_difference}\")"
   ],
   "metadata": {
    "id": "h0T-VuDnf3Ri",
    "ExecuteTime": {
     "end_time": "2024-02-12T19:58:55.115607Z",
     "start_time": "2024-02-12T19:58:55.110386100Z"
    }
   },
   "execution_count": 109,
   "outputs": [
    {
     "name": "stdout",
     "output_type": "stream",
     "text": [
      "Union - {1, 2, 3, 4, 5, 6, 9, 10}\n",
      "Intersection - {2, 3, 5}\n",
      "Difference - {1, 9}\n",
      "Symmetric difference - {1, 4, 6, 9, 10}\n"
     ]
    }
   ]
  },
  {
   "cell_type": "markdown",
   "source": [
    "# VII. Словники (Dictionary)."
   ],
   "metadata": {
    "id": "kWc8gkzTx7Ea"
   }
  },
  {
   "cell_type": "markdown",
   "source": [
    "20. Створіть пустий словник. До нього додайте чотири пари елементів такі, щоб їхні ключі були різних типів. Чи може список бути ключем? Чому?"
   ],
   "metadata": {
    "id": "i5FLwj-B2ybQ"
   }
  },
  {
   "cell_type": "code",
   "source": [
    "my_dict = dict()\n",
    "my_dict['a'] = 1\n",
    "my_dict[0] = 'a'\n",
    "my_dict[(1.5 + 7j, 4)] = 1.5\n",
    "my_dict[True] = 17\n",
    "\n",
    "my_dict"
   ],
   "metadata": {
    "id": "hxgv3BzrgLAV",
    "ExecuteTime": {
     "end_time": "2024-02-12T20:17:03.128359800Z",
     "start_time": "2024-02-12T20:17:03.124733900Z"
    }
   },
   "execution_count": 114,
   "outputs": [
    {
     "data": {
      "text/plain": "{'a': 1, 0: 'a', ((1.5+7j), 4): 1.5, True: 17}"
     },
     "execution_count": 114,
     "metadata": {},
     "output_type": "execute_result"
    }
   ]
  },
  {
   "cell_type": "markdown",
   "source": [
    "Список не може бути ключем оскільки він змінний і не може мати хеш-ключа."
   ],
   "metadata": {
    "id": "zwa7UVN-gR3m"
   }
  },
  {
   "cell_type": "markdown",
   "source": [
    "21. Створіть словник, де значенням в одній з пар теж буде словник, який теж має вкладений словник. Виведіть на екран значення, що міститься в словнику, що знаходиться на найнижчому рівні ієрархії вкладеності (найбільш внутрішній)."
   ],
   "metadata": {
    "id": "WM_pMlJsgoNf"
   }
  },
  {
   "cell_type": "code",
   "source": [
    "nested_dict = {\n",
    "    \"nes_dict\" : {\n",
    "        \"custom_dict\" : {\n",
    "            \"low key\" : \"really deep\",\n",
    "            \"low key2\" : \"also really deep\"\n",
    "        },\n",
    "        \"middle key\" : \"not really deep\"\n",
    "    },\n",
    "    \"high key\" : \"not deep\"\n",
    "}\n",
    "\n",
    "nested_dict[\"nes_dict\"][\"custom_dict\"]"
   ],
   "metadata": {
    "id": "60dlP7IHhAy4",
    "ExecuteTime": {
     "end_time": "2024-02-12T20:22:15.231738500Z",
     "start_time": "2024-02-12T20:22:15.228363400Z"
    }
   },
   "execution_count": 117,
   "outputs": [
    {
     "data": {
      "text/plain": "{'low key': 'really deep', 'low key2': 'also really deep'}"
     },
     "execution_count": 117,
     "metadata": {},
     "output_type": "execute_result"
    }
   ]
  },
  {
   "cell_type": "markdown",
   "source": [
    "# Вітаю! Ви велика(ий) молодець, що впоралась(вся). Похваліть себе та побалуйте чимось приємним. Я Вами пишаюся."
   ],
   "metadata": {
    "id": "xOZP0hkx6cCr"
   }
  }
 ]
}
